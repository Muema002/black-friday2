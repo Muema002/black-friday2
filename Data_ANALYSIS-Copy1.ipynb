{
 "cells": [
  {
   "cell_type": "markdown",
   "metadata": {},
   "source": [
    "<img src=\"IMAGE1.png\" alt=\"M.P.S\" height=\"1000\" width=\"1500\"></a>\n"
   ]
  },
  {
   "cell_type": "markdown",
   "metadata": {},
   "source": [
    "THE CODE ABOVE GIVES YOU A WAY YOU INPUT A PICTURE(MEDIA) IN CODE"
   ]
  },
  {
   "cell_type": "markdown",
   "metadata": {},
   "source": [
    "Data analysis is the process of collecting, modeling, and analyzing data using various statistical and logical methods and techniques. Businesses rely on analytics processes and tools to extract insights that support strategic and operational decision-making."
   ]
  },
  {
   "cell_type": "markdown",
   "metadata": {},
   "source": [
    "recall in computational 1 and 2 we learnt on Pandas\n",
    "A Python library used for working with data sets. It has functions for analyzing, cleaning, exploring, and manipulating data."
   ]
  },
  {
   "cell_type": "markdown",
   "metadata": {},
   "source": [
    "We learnt also on Matplotlib, we will up our game by also using another tool called Seaborn\n",
    "Seaborn is a Python data visualization library based on matplotlib. It provides a high-level interface for drawing attractive and informative statistical graphics"
   ]
  },
  {
   "cell_type": "markdown",
   "metadata": {},
   "source": [
    "I have used a clean data set but all cleaning methods we learnt in Computational II , Recall removing null values , avoiding duplicates, removing extremes and making sure your excel sheet is clean.\n",
    "\n",
    "key areas\n",
    "1. "
   ]
  },
  {
   "cell_type": "code",
   "execution_count": 3,
   "metadata": {},
   "outputs": [],
   "source": [
    "import pandas as pd\n",
    "import numpy as np\n",
    "import ydata_profiling as pp\n",
    "import matplotlib\n",
    "import matplotlib.pyplot as plt\n",
    "import seaborn as sns; sns.set(style=\"ticks\", color_codes=False)\n",
    "sns.set(rc={'figure.figsize':(20,30)})\n",
    "\n",
    "#import warnings\n",
    "#warnings.filterwarnings('ignore')"
   ]
  },
  {
   "cell_type": "code",
   "execution_count": 4,
   "metadata": {},
   "outputs": [],
   "source": [
    "from sklearn.preprocessing import StandardScaler\n",
    "from sklearn.model_selection import train_test_split\n",
    "from sklearn.decomposition import PCA"
   ]
  },
  {
   "cell_type": "code",
   "execution_count": 5,
   "metadata": {},
   "outputs": [],
   "source": [
    "%matplotlib inline"
   ]
  },
  {
   "cell_type": "code",
   "execution_count": 6,
   "metadata": {},
   "outputs": [],
   "source": [
    "matplotlib.use('TkAgg')"
   ]
  },
  {
   "cell_type": "code",
   "execution_count": 7,
   "metadata": {},
   "outputs": [],
   "source": [
    "#data = pd.read_csv(\"Eric/BlackFriday.csv\")\n",
    "data = pd.read_csv(\"BlackFriday.csv\")"
   ]
  },
  {
   "cell_type": "code",
   "execution_count": 8,
   "metadata": {},
   "outputs": [
    {
     "data": {
      "text/html": [
       "<div>\n",
       "<style scoped>\n",
       "    .dataframe tbody tr th:only-of-type {\n",
       "        vertical-align: middle;\n",
       "    }\n",
       "\n",
       "    .dataframe tbody tr th {\n",
       "        vertical-align: top;\n",
       "    }\n",
       "\n",
       "    .dataframe thead th {\n",
       "        text-align: right;\n",
       "    }\n",
       "</style>\n",
       "<table border=\"1\" class=\"dataframe\">\n",
       "  <thead>\n",
       "    <tr style=\"text-align: right;\">\n",
       "      <th></th>\n",
       "      <th>User_ID</th>\n",
       "      <th>Product_ID</th>\n",
       "      <th>Gender</th>\n",
       "      <th>Age</th>\n",
       "      <th>Occupation</th>\n",
       "      <th>City_Category</th>\n",
       "      <th>Stay_In_Current_City_Years</th>\n",
       "      <th>Marital_Status</th>\n",
       "      <th>Product_Category_1</th>\n",
       "      <th>Product_Category_2</th>\n",
       "      <th>Product_Category_3</th>\n",
       "      <th>Purchase</th>\n",
       "    </tr>\n",
       "  </thead>\n",
       "  <tbody>\n",
       "    <tr>\n",
       "      <th>0</th>\n",
       "      <td>1000001</td>\n",
       "      <td>P00069042</td>\n",
       "      <td>F</td>\n",
       "      <td>0-17</td>\n",
       "      <td>10</td>\n",
       "      <td>A</td>\n",
       "      <td>2</td>\n",
       "      <td>0</td>\n",
       "      <td>3</td>\n",
       "      <td>NaN</td>\n",
       "      <td>NaN</td>\n",
       "      <td>8370</td>\n",
       "    </tr>\n",
       "    <tr>\n",
       "      <th>1</th>\n",
       "      <td>1000001</td>\n",
       "      <td>P00248942</td>\n",
       "      <td>F</td>\n",
       "      <td>0-17</td>\n",
       "      <td>10</td>\n",
       "      <td>A</td>\n",
       "      <td>2</td>\n",
       "      <td>0</td>\n",
       "      <td>1</td>\n",
       "      <td>6.0</td>\n",
       "      <td>14.0</td>\n",
       "      <td>15200</td>\n",
       "    </tr>\n",
       "    <tr>\n",
       "      <th>2</th>\n",
       "      <td>1000001</td>\n",
       "      <td>P00087842</td>\n",
       "      <td>F</td>\n",
       "      <td>0-17</td>\n",
       "      <td>10</td>\n",
       "      <td>A</td>\n",
       "      <td>2</td>\n",
       "      <td>0</td>\n",
       "      <td>12</td>\n",
       "      <td>NaN</td>\n",
       "      <td>NaN</td>\n",
       "      <td>1422</td>\n",
       "    </tr>\n",
       "    <tr>\n",
       "      <th>3</th>\n",
       "      <td>1000001</td>\n",
       "      <td>P00085442</td>\n",
       "      <td>F</td>\n",
       "      <td>0-17</td>\n",
       "      <td>10</td>\n",
       "      <td>A</td>\n",
       "      <td>2</td>\n",
       "      <td>0</td>\n",
       "      <td>12</td>\n",
       "      <td>14.0</td>\n",
       "      <td>NaN</td>\n",
       "      <td>1057</td>\n",
       "    </tr>\n",
       "    <tr>\n",
       "      <th>4</th>\n",
       "      <td>1000002</td>\n",
       "      <td>P00285442</td>\n",
       "      <td>M</td>\n",
       "      <td>55+</td>\n",
       "      <td>16</td>\n",
       "      <td>C</td>\n",
       "      <td>4+</td>\n",
       "      <td>0</td>\n",
       "      <td>8</td>\n",
       "      <td>NaN</td>\n",
       "      <td>NaN</td>\n",
       "      <td>7969</td>\n",
       "    </tr>\n",
       "  </tbody>\n",
       "</table>\n",
       "</div>"
      ],
      "text/plain": [
       "   User_ID Product_ID Gender   Age  Occupation City_Category  \\\n",
       "0  1000001  P00069042      F  0-17          10             A   \n",
       "1  1000001  P00248942      F  0-17          10             A   \n",
       "2  1000001  P00087842      F  0-17          10             A   \n",
       "3  1000001  P00085442      F  0-17          10             A   \n",
       "4  1000002  P00285442      M   55+          16             C   \n",
       "\n",
       "  Stay_In_Current_City_Years  Marital_Status  Product_Category_1  \\\n",
       "0                          2               0                   3   \n",
       "1                          2               0                   1   \n",
       "2                          2               0                  12   \n",
       "3                          2               0                  12   \n",
       "4                         4+               0                   8   \n",
       "\n",
       "   Product_Category_2  Product_Category_3  Purchase  \n",
       "0                 NaN                 NaN      8370  \n",
       "1                 6.0                14.0     15200  \n",
       "2                 NaN                 NaN      1422  \n",
       "3                14.0                 NaN      1057  \n",
       "4                 NaN                 NaN      7969  "
      ]
     },
     "execution_count": 8,
     "metadata": {},
     "output_type": "execute_result"
    }
   ],
   "source": [
    "data.head()"
   ]
  },
  {
   "cell_type": "code",
   "execution_count": null,
   "metadata": {},
   "outputs": [
    {
     "data": {
      "application/vnd.jupyter.widget-view+json": {
       "model_id": "cbcb16130618402c9a2163bb7a81c2ae",
       "version_major": 2,
       "version_minor": 0
      },
      "text/plain": [
       "Summarize dataset:   0%|          | 0/5 [00:00<?, ?it/s]"
      ]
     },
     "metadata": {},
     "output_type": "display_data"
    }
   ],
   "source": [
    "pp.ProfileReport(data)"
   ]
  },
  {
   "cell_type": "code",
   "execution_count": null,
   "metadata": {},
   "outputs": [],
   "source": [
    "data.mode()"
   ]
  },
  {
   "cell_type": "code",
   "execution_count": null,
   "metadata": {},
   "outputs": [],
   "source": [
    "data.shape"
   ]
  },
  {
   "cell_type": "code",
   "execution_count": null,
   "metadata": {},
   "outputs": [],
   "source": [
    "data.nunique()"
   ]
  },
  {
   "cell_type": "markdown",
   "metadata": {},
   "source": [
    "# OPERATIONS IN DATA"
   ]
  },
  {
   "cell_type": "code",
   "execution_count": null,
   "metadata": {},
   "outputs": [],
   "source": [
    "< img src=\"PICmTds.png\" alt=\"M.P.S\" height=\"1000\" width=\"1500\"></a>\n"
   ]
  },
  {
   "cell_type": "code",
   "execution_count": null,
   "metadata": {},
   "outputs": [],
   "source": [
    "#data_ = data.replace({'F':'0', 'M':'1'}, inplace = False) \n",
    "data__ = data.replace({'A' : '1', 'B' : '2' , 'C' : '3'})\n",
    "data__.head()\n"
   ]
  },
  {
   "cell_type": "code",
   "execution_count": null,
   "metadata": {},
   "outputs": [],
   "source": [
    "data__1 = data.dropna(subset=['Product_ID', 'Product_Category_1', 'Product_Category_2' ,'Product_Category_3','Stay_In_Current_City_Years', 'City_Category', 'Occupation'])\n",
    "data__1.head()"
   ]
  },
  {
   "cell_type": "code",
   "execution_count": null,
   "metadata": {},
   "outputs": [],
   "source": [
    "data__2 = data__1.drop(['Product_ID', 'User_ID'], axis = 1)\n",
    "data__2['Age'].astype('category').cat.as_ordered()\n",
    "data__2['Age']\n",
    "data__2.head()"
   ]
  },
  {
   "cell_type": "code",
   "execution_count": null,
   "metadata": {},
   "outputs": [],
   "source": [
    "data__6 = data__2.drop(['Product_Category_1','Stay_In_Current_City_Years', 'Gender', 'Marital_Status'], axis = 1)\n",
    "data__6.head()"
   ]
  },
  {
   "cell_type": "code",
   "execution_count": 15,
   "metadata": {},
   "outputs": [],
   "source": [
    "age_dummies = pd.get_dummies(data__2.Age)"
   ]
  },
  {
   "cell_type": "code",
   "execution_count": 16,
   "metadata": {},
   "outputs": [],
   "source": [
    "City_Category_dummies = pd.get_dummies(data__2.City_Category) "
   ]
  },
  {
   "cell_type": "code",
   "execution_count": 17,
   "metadata": {},
   "outputs": [],
   "source": [
    "Stay_In_Current_City_Years_dummies = pd.get_dummies(data__2.Stay_In_Current_City_Years)"
   ]
  },
  {
   "cell_type": "code",
   "execution_count": 18,
   "metadata": {},
   "outputs": [],
   "source": [
    "Occupation_dummies = pd.get_dummies(data__2.Occupation)"
   ]
  },
  {
   "cell_type": "code",
   "execution_count": 19,
   "metadata": {},
   "outputs": [],
   "source": [
    "Product_Category_1_dummies = pd.get_dummies(data__2.Product_Category_1)"
   ]
  },
  {
   "cell_type": "code",
   "execution_count": 20,
   "metadata": {},
   "outputs": [],
   "source": [
    "Product_Category_2_dummies = pd.get_dummies(data__2.Product_Category_2)"
   ]
  },
  {
   "cell_type": "code",
   "execution_count": 21,
   "metadata": {},
   "outputs": [],
   "source": [
    "Product_Category_3_dummies = pd.get_dummies(data__2.Product_Category_3)"
   ]
  },
  {
   "cell_type": "code",
   "execution_count": 23,
   "metadata": {},
   "outputs": [
    {
     "data": {
      "text/plain": [
       "(        0-17  18-25  26-35  36-45  46-50  51-55  55+\n",
       " 1          1      0      0      0      0      0    0\n",
       " 6          0      0      0      0      1      0    0\n",
       " 13         0      0      1      0      0      0    0\n",
       " 14         0      0      0      0      0      1    0\n",
       " 16         0      0      0      0      0      1    0\n",
       " ...      ...    ...    ...    ...    ...    ...  ...\n",
       " 537549     0      0      0      0      0      1    0\n",
       " 537551     0      0      0      0      1      0    0\n",
       " 537562     0      1      0      0      0      0    0\n",
       " 537571     0      0      0      1      0      0    0\n",
       " 537573     0      0      0      1      0      0    0\n",
       " \n",
       " [164278 rows x 7 columns],\n",
       "         A  B  C\n",
       " 1       1  0  0\n",
       " 6       0  1  0\n",
       " 13      1  0  0\n",
       " 14      1  0  0\n",
       " 16      1  0  0\n",
       " ...    .. .. ..\n",
       " 537549  0  1  0\n",
       " 537551  0  0  1\n",
       " 537562  1  0  0\n",
       " 537571  0  0  1\n",
       " 537573  0  0  1\n",
       " \n",
       " [164278 rows x 3 columns],\n",
       "         0  1  2  3  4+\n",
       " 1       0  0  1  0   0\n",
       " 6       0  0  1  0   0\n",
       " 13      0  1  0  0   0\n",
       " 14      0  1  0  0   0\n",
       " 16      0  1  0  0   0\n",
       " ...    .. .. .. ..  ..\n",
       " 537549  0  1  0  0   0\n",
       " 537551  0  0  0  1   0\n",
       " 537562  0  1  0  0   0\n",
       " 537571  0  1  0  0   0\n",
       " 537573  0  1  0  0   0\n",
       " \n",
       " [164278 rows x 5 columns],\n",
       "         0   1   2   3   4   5   6   7   8   9   ...  11  12  13  14  15  16  \\\n",
       " 1        0   0   0   0   0   0   0   0   0   0  ...   0   0   0   0   0   0   \n",
       " 6        0   0   0   0   0   0   0   1   0   0  ...   0   0   0   0   0   0   \n",
       " 13       0   0   0   0   0   0   0   0   0   0  ...   0   0   0   0   0   0   \n",
       " 14       0   0   0   0   0   0   0   0   0   1  ...   0   0   0   0   0   0   \n",
       " 16       0   0   0   0   0   0   0   0   0   1  ...   0   0   0   0   0   0   \n",
       " ...     ..  ..  ..  ..  ..  ..  ..  ..  ..  ..  ...  ..  ..  ..  ..  ..  ..   \n",
       " 537549   0   1   0   0   0   0   0   0   0   0  ...   0   0   0   0   0   0   \n",
       " 537551   0   0   0   1   0   0   0   0   0   0  ...   0   0   0   0   0   0   \n",
       " 537562   0   0   0   0   0   0   0   0   0   0  ...   0   0   0   0   0   0   \n",
       " 537571   0   0   0   0   0   0   0   0   0   0  ...   0   0   0   0   0   1   \n",
       " 537573   0   0   0   0   0   0   0   0   0   0  ...   0   0   0   0   0   1   \n",
       " \n",
       "         17  18  19  20  \n",
       " 1        0   0   0   0  \n",
       " 6        0   0   0   0  \n",
       " 13       0   0   0   1  \n",
       " 14       0   0   0   0  \n",
       " 16       0   0   0   0  \n",
       " ...     ..  ..  ..  ..  \n",
       " 537549   0   0   0   0  \n",
       " 537551   0   0   0   0  \n",
       " 537562   0   0   0   1  \n",
       " 537571   0   0   0   0  \n",
       " 537573   0   0   0   0  \n",
       " \n",
       " [164278 rows x 21 columns],\n",
       "         1   2   3   4   5   6   8   10  11  12  13  15\n",
       " 1        1   0   0   0   0   0   0   0   0   0   0   0\n",
       " 6        1   0   0   0   0   0   0   0   0   0   0   0\n",
       " 13       1   0   0   0   0   0   0   0   0   0   0   0\n",
       " 14       0   0   0   0   1   0   0   0   0   0   0   0\n",
       " 16       0   1   0   0   0   0   0   0   0   0   0   0\n",
       " ...     ..  ..  ..  ..  ..  ..  ..  ..  ..  ..  ..  ..\n",
       " 537549   0   1   0   0   0   0   0   0   0   0   0   0\n",
       " 537551   0   0   0   0   1   0   0   0   0   0   0   0\n",
       " 537562   1   0   0   0   0   0   0   0   0   0   0   0\n",
       " 537571   1   0   0   0   0   0   0   0   0   0   0   0\n",
       " 537573   1   0   0   0   0   0   0   0   0   0   0   0\n",
       " \n",
       " [164278 rows x 12 columns],\n",
       "         2.0   3.0   4.0   5.0   6.0   8.0   9.0   10.0  11.0  12.0  13.0  \\\n",
       " 1          0     0     0     0     1     0     0     0     0     0     0   \n",
       " 6          0     0     0     0     0     1     0     0     0     0     0   \n",
       " 13         1     0     0     0     0     0     0     0     0     0     0   \n",
       " 14         0     0     0     0     0     1     0     0     0     0     0   \n",
       " 16         0     1     0     0     0     0     0     0     0     0     0   \n",
       " ...      ...   ...   ...   ...   ...   ...   ...   ...   ...   ...   ...   \n",
       " 537549     0     0     0     0     0     1     0     0     0     0     0   \n",
       " 537551     0     0     0     0     1     0     0     0     0     0     0   \n",
       " 537562     0     0     0     0     0     0     0     0     0     0     1   \n",
       " 537571     1     0     0     0     0     0     0     0     0     0     0   \n",
       " 537573     0     0     0     0     0     0     0     0     0     0     0   \n",
       " \n",
       "         14.0  15.0  16.0  \n",
       " 1          0     0     0  \n",
       " 6          0     0     0  \n",
       " 13         0     0     0  \n",
       " 14         0     0     0  \n",
       " 16         0     0     0  \n",
       " ...      ...   ...   ...  \n",
       " 537549     0     0     0  \n",
       " 537551     0     0     0  \n",
       " 537562     0     0     0  \n",
       " 537571     0     0     0  \n",
       " 537573     0     1     0  \n",
       " \n",
       " [164278 rows x 14 columns],\n",
       "         3.0   4.0   5.0   6.0   8.0   9.0   10.0  11.0  12.0  13.0  14.0  \\\n",
       " 1          0     0     0     0     0     0     0     0     0     0     1   \n",
       " 6          0     0     0     0     0     0     0     0     0     0     0   \n",
       " 13         0     0     1     0     0     0     0     0     0     0     0   \n",
       " 14         0     0     0     0     0     0     0     0     0     0     1   \n",
       " 16         0     1     0     0     0     0     0     0     0     0     0   \n",
       " ...      ...   ...   ...   ...   ...   ...   ...   ...   ...   ...   ...   \n",
       " 537549     0     0     0     0     0     0     0     0     0     0     1   \n",
       " 537551     0     0     0     0     1     0     0     0     0     0     0   \n",
       " 537562     0     0     0     0     0     0     0     0     0     0     1   \n",
       " 537571     0     0     1     0     0     0     0     0     0     0     0   \n",
       " 537573     0     0     0     0     0     0     0     0     0     0     0   \n",
       " \n",
       "         15.0  16.0  17.0  18.0  \n",
       " 1          0     0     0     0  \n",
       " 6          0     0     1     0  \n",
       " 13         0     0     0     0  \n",
       " 14         0     0     0     0  \n",
       " 16         0     0     0     0  \n",
       " ...      ...   ...   ...   ...  \n",
       " 537549     0     0     0     0  \n",
       " 537551     0     0     0     0  \n",
       " 537562     0     0     0     0  \n",
       " 537571     0     0     0     0  \n",
       " 537573     0     1     0     0  \n",
       " \n",
       " [164278 rows x 15 columns])"
      ]
     },
     "execution_count": 23,
     "metadata": {},
     "output_type": "execute_result"
    }
   ],
   "source": [
    " age_dummies,City_Category_dummies,Stay_In_Current_City_Years_dummies,Occupation_dummies,Product_Category_1_dummies,Product_Category_2_dummies,Product_Category_3_dummies"
   ]
  },
  {
   "cell_type": "markdown",
   "metadata": {},
   "source": [
    "## ** UNIVARIATE ANALYSIS\n",
    "\n",
    " "
   ]
  },
  {
   "cell_type": "code",
   "execution_count": 24,
   "metadata": {},
   "outputs": [
    {
     "data": {
      "text/plain": [
       "<AxesSubplot:>"
      ]
     },
     "execution_count": 24,
     "metadata": {},
     "output_type": "execute_result"
    }
   ],
   "source": [
    "data__2['Stay_In_Current_City_Years'].value_counts().plot.bar()\n",
    "#data__2['Stay_In_Current_City_Years'].value_counts()"
   ]
  },
  {
   "cell_type": "markdown",
   "metadata": {},
   "source": [
    "## FINDINGS \n",
    "    -Most buyers have lived in the city for one year\n",
    "    "
   ]
  },
  {
   "cell_type": "markdown",
   "metadata": {},
   "source": [
    "#### Marital_Status"
   ]
  },
  {
   "cell_type": "code",
   "execution_count": 25,
   "metadata": {},
   "outputs": [
    {
     "data": {
      "text/plain": [
       "<AxesSubplot:>"
      ]
     },
     "execution_count": 25,
     "metadata": {},
     "output_type": "execute_result"
    }
   ],
   "source": [
    "data__2['Marital_Status'].value_counts().plot.bar() \n",
    "\n"
   ]
  },
  {
   "cell_type": "markdown",
   "metadata": {},
   "source": [
    "## Findings\n",
    "    -Majority are not married"
   ]
  },
  {
   "cell_type": "markdown",
   "metadata": {},
   "source": [
    "#### City_Category"
   ]
  },
  {
   "cell_type": "code",
   "execution_count": 26,
   "metadata": {},
   "outputs": [
    {
     "data": {
      "text/plain": [
       "<AxesSubplot:>"
      ]
     },
     "execution_count": 26,
     "metadata": {},
     "output_type": "execute_result"
    }
   ],
   "source": [
    "#data__2['City_Category'].plot.bar() \n",
    "data__2['City_Category'].value_counts().plot.bar()"
   ]
  },
  {
   "cell_type": "markdown",
   "metadata": {},
   "source": [
    "## Findings\n",
    "\n",
    "      -Most buyers are from city B"
   ]
  },
  {
   "cell_type": "markdown",
   "metadata": {},
   "source": [
    "#### Purchase"
   ]
  },
  {
   "cell_type": "code",
   "execution_count": 27,
   "metadata": {},
   "outputs": [
    {
     "data": {
      "text/plain": [
       "<AxesSubplot:ylabel='Frequency'>"
      ]
     },
     "execution_count": 27,
     "metadata": {},
     "output_type": "execute_result"
    }
   ],
   "source": [
    "data__2['Purchase'].plot.hist() \n"
   ]
  },
  {
   "cell_type": "code",
   "execution_count": 28,
   "metadata": {},
   "outputs": [
    {
     "data": {
      "text/plain": [
       "942       15879\n",
       "9094      15879\n",
       "22207     15879\n",
       "24410     15879\n",
       "45310     15879\n",
       "          ...  \n",
       "489126    15879\n",
       "494808    15879\n",
       "495141    15879\n",
       "499784    15879\n",
       "531648    15879\n",
       "Name: Purchase, Length: 68, dtype: int64"
      ]
     },
     "execution_count": 28,
     "metadata": {},
     "output_type": "execute_result"
    }
   ],
   "source": [
    "data__2[data__2['Purchase']==15879]['Purchase']"
   ]
  },
  {
   "cell_type": "markdown",
   "metadata": {},
   "source": [
    "#### Product_Category_1"
   ]
  },
  {
   "cell_type": "code",
   "execution_count": 29,
   "metadata": {},
   "outputs": [
    {
     "data": {
      "text/plain": [
       "array([ 1,  5,  2,  6,  3,  4,  8, 12, 11, 10, 15, 13], dtype=int64)"
      ]
     },
     "execution_count": 29,
     "metadata": {},
     "output_type": "execute_result"
    }
   ],
   "source": [
    "data__2['Product_Category_1'].unique()"
   ]
  },
  {
   "cell_type": "markdown",
   "metadata": {},
   "source": [
    "#### Product_Category_2"
   ]
  },
  {
   "cell_type": "code",
   "execution_count": 30,
   "metadata": {},
   "outputs": [
    {
     "data": {
      "text/plain": [
       "<AxesSubplot:ylabel='Frequency'>"
      ]
     },
     "execution_count": 30,
     "metadata": {},
     "output_type": "execute_result"
    }
   ],
   "source": [
    "data__2['Product_Category_2'].plot.hist()"
   ]
  },
  {
   "cell_type": "markdown",
   "metadata": {},
   "source": [
    "#### Product_Category_3"
   ]
  },
  {
   "cell_type": "code",
   "execution_count": 31,
   "metadata": {},
   "outputs": [
    {
     "data": {
      "text/plain": [
       "<AxesSubplot:ylabel='Frequency'>"
      ]
     },
     "execution_count": 31,
     "metadata": {},
     "output_type": "execute_result"
    }
   ],
   "source": [
    "data__2['Product_Category_3'].plot.hist()"
   ]
  },
  {
   "cell_type": "markdown",
   "metadata": {},
   "source": [
    "#### Age"
   ]
  },
  {
   "cell_type": "code",
   "execution_count": 32,
   "metadata": {},
   "outputs": [
    {
     "data": {
      "text/plain": [
       "<AxesSubplot:ylabel='Frequency'>"
      ]
     },
     "execution_count": 32,
     "metadata": {},
     "output_type": "execute_result"
    }
   ],
   "source": [
    "#data__2['Age'].plot.hist() \n",
    "data__2['Age'].value_counts().plot.bar()"
   ]
  },
  {
   "cell_type": "markdown",
   "metadata": {},
   "source": [
    "## Findings\n",
    "    -Majority of the buyers are in the age bracket 26-35"
   ]
  },
  {
   "cell_type": "markdown",
   "metadata": {},
   "source": [
    "#### Occupation"
   ]
  },
  {
   "cell_type": "code",
   "execution_count": 33,
   "metadata": {},
   "outputs": [
    {
     "data": {
      "text/plain": [
       "<AxesSubplot:ylabel='Frequency'>"
      ]
     },
     "execution_count": 33,
     "metadata": {},
     "output_type": "execute_result"
    }
   ],
   "source": [
    "data__2['Occupation'].value_counts().plot.bar() \n",
    "#data__2['Occupation'].value_counts()"
   ]
  },
  {
   "cell_type": "markdown",
   "metadata": {},
   "source": [
    "## Findings\n",
    "    -Most of the buyers have the occupation 4"
   ]
  },
  {
   "cell_type": "markdown",
   "metadata": {},
   "source": [
    "## Bivariate Analysis"
   ]
  },
  {
   "cell_type": "markdown",
   "metadata": {},
   "source": [
    "### Pair plots "
   ]
  },
  {
   "cell_type": "code",
   "execution_count": 34,
   "metadata": {},
   "outputs": [
    {
     "data": {
      "text/plain": [
       "<seaborn.axisgrid.PairGrid at 0x23849d45b50>"
      ]
     },
     "execution_count": 34,
     "metadata": {},
     "output_type": "execute_result"
    }
   ],
   "source": [
    "plt.figure(figsize=(6,4))\n",
    "sns.pairplot(data__2)"
   ]
  },
  {
   "cell_type": "markdown",
   "metadata": {},
   "source": [
    "### Coorelation Heatmap"
   ]
  },
  {
   "cell_type": "code",
   "execution_count": 35,
   "metadata": {},
   "outputs": [],
   "source": [
    "plt.figure(figsize=(12, 8))\n",
    "\n",
    "data__3 = data__2.corr()\n",
    "sns.heatmap(data__3, \n",
    "            xticklabels = data__3.columns.values,\n",
    "            yticklabels = data__3.columns.values,\n",
    "            annot = True);"
   ]
  },
  {
   "cell_type": "markdown",
   "metadata": {},
   "source": [
    "## Findings\n",
    "    -Product_cartegory_2 and Product_cartegory_1 have coorelation of 0.5\n",
    "    -Product_cartegory_2 and Product_cartegory_3 have coorelation of 0.54"
   ]
  },
  {
   "cell_type": "markdown",
   "metadata": {},
   "source": []
  },
  {
   "cell_type": "code",
   "execution_count": 36,
   "metadata": {},
   "outputs": [
    {
     "data": {
      "text/plain": [
       "<AxesSubplot:>"
      ]
     },
     "execution_count": 36,
     "metadata": {},
     "output_type": "execute_result"
    }
   ],
   "source": [
    "data__2.plot.area()\n"
   ]
  },
  {
   "cell_type": "code",
   "execution_count": 37,
   "metadata": {},
   "outputs": [],
   "source": [
    "fig = plt.figure(figsize=(8,6))\n",
    "\n",
    "plt.scatter(data__2['Age'], data__2['Purchase'])\n",
    "plt.xlabel('Age')\n",
    "plt.ylabel('Purchase')\n",
    "plt.grid()\n",
    "#plt.legend(loc='upper right')\n",
    "\n",
    "plt.gcf().autofmt_xdate()\n",
    "\n",
    "plt.show()"
   ]
  },
  {
   "cell_type": "markdown",
   "metadata": {},
   "source": [
    "## HYPOTHESIS TESTING BY COMPARING VARIOUS COLUMNS IN THE DATA"
   ]
  },
  {
   "cell_type": "markdown",
   "metadata": {},
   "source": [
    "### -Is a particular age group purchasing a certain product cartegory more than others"
   ]
  },
  {
   "cell_type": "code",
   "execution_count": 38,
   "metadata": {},
   "outputs": [
    {
     "ename": "AttributeError",
     "evalue": "'list' object has no attribute 'hist'",
     "output_type": "error",
     "traceback": [
      "\u001b[1;31m---------------------------------------------------------------------------\u001b[0m",
      "\u001b[1;31mAttributeError\u001b[0m                            Traceback (most recent call last)",
      "\u001b[1;32m~\\AppData\\Local\\Temp\\ipykernel_11356\\1807539049.py\u001b[0m in \u001b[0;36m<module>\u001b[1;34m\u001b[0m\n\u001b[1;32m----> 1\u001b[1;33m \u001b[0mplt\u001b[0m\u001b[1;33m.\u001b[0m\u001b[0mplot\u001b[0m\u001b[1;33m(\u001b[0m\u001b[0mdata__2\u001b[0m\u001b[1;33m[\u001b[0m\u001b[1;34m'Age'\u001b[0m\u001b[1;33m]\u001b[0m\u001b[1;33m,\u001b[0m \u001b[0mdata__2\u001b[0m\u001b[1;33m[\u001b[0m\u001b[1;34m'Product_Category_1'\u001b[0m\u001b[1;33m]\u001b[0m\u001b[1;33m)\u001b[0m\u001b[1;33m.\u001b[0m\u001b[0mhist\u001b[0m\u001b[1;33m(\u001b[0m\u001b[1;33m)\u001b[0m\u001b[1;33m\u001b[0m\u001b[1;33m\u001b[0m\u001b[0m\n\u001b[0m",
      "\u001b[1;31mAttributeError\u001b[0m: 'list' object has no attribute 'hist'"
     ]
    }
   ],
   "source": [
    "plt.plot(data__2['Age'], data__2['Product_Category_1']).hist()"
   ]
  },
  {
   "cell_type": "code",
   "execution_count": 39,
   "metadata": {},
   "outputs": [
    {
     "ename": "AttributeError",
     "evalue": "'list' object has no attribute 'bar'",
     "output_type": "error",
     "traceback": [
      "\u001b[1;31m---------------------------------------------------------------------------\u001b[0m",
      "\u001b[1;31mAttributeError\u001b[0m                            Traceback (most recent call last)",
      "\u001b[1;32m~\\AppData\\Local\\Temp\\ipykernel_11356\\1536225489.py\u001b[0m in \u001b[0;36m<module>\u001b[1;34m\u001b[0m\n\u001b[1;32m----> 1\u001b[1;33m \u001b[0mplt\u001b[0m\u001b[1;33m.\u001b[0m\u001b[0mplot\u001b[0m\u001b[1;33m(\u001b[0m\u001b[0mdata__2\u001b[0m\u001b[1;33m[\u001b[0m\u001b[1;34m'Age'\u001b[0m\u001b[1;33m]\u001b[0m\u001b[1;33m,\u001b[0m \u001b[0mdata__2\u001b[0m\u001b[1;33m[\u001b[0m\u001b[1;34m'Product_Category_2'\u001b[0m\u001b[1;33m]\u001b[0m\u001b[1;33m)\u001b[0m\u001b[1;33m.\u001b[0m\u001b[0mbar\u001b[0m\u001b[1;33m(\u001b[0m\u001b[1;33m)\u001b[0m\u001b[1;33m\u001b[0m\u001b[1;33m\u001b[0m\u001b[0m\n\u001b[0m",
      "\u001b[1;31mAttributeError\u001b[0m: 'list' object has no attribute 'bar'"
     ]
    }
   ],
   "source": [
    "plt.plot(data__2['Age'], data__2['Product_Category_2']).bar()\n"
   ]
  },
  {
   "cell_type": "code",
   "execution_count": 40,
   "metadata": {},
   "outputs": [
    {
     "ename": "AttributeError",
     "evalue": "'list' object has no attribute 'bar'",
     "output_type": "error",
     "traceback": [
      "\u001b[1;31m---------------------------------------------------------------------------\u001b[0m",
      "\u001b[1;31mAttributeError\u001b[0m                            Traceback (most recent call last)",
      "\u001b[1;32m~\\AppData\\Local\\Temp\\ipykernel_11356\\1816505941.py\u001b[0m in \u001b[0;36m<module>\u001b[1;34m\u001b[0m\n\u001b[1;32m----> 1\u001b[1;33m \u001b[0mplt\u001b[0m\u001b[1;33m.\u001b[0m\u001b[0mplot\u001b[0m\u001b[1;33m(\u001b[0m\u001b[0mdata__2\u001b[0m\u001b[1;33m[\u001b[0m\u001b[1;34m'Age'\u001b[0m\u001b[1;33m]\u001b[0m\u001b[1;33m,\u001b[0m \u001b[0mdata__2\u001b[0m\u001b[1;33m[\u001b[0m\u001b[1;34m'Product_Category_3'\u001b[0m\u001b[1;33m]\u001b[0m\u001b[1;33m)\u001b[0m\u001b[1;33m.\u001b[0m\u001b[0mbar\u001b[0m\u001b[1;33m(\u001b[0m\u001b[1;33m)\u001b[0m\u001b[1;33m\u001b[0m\u001b[1;33m\u001b[0m\u001b[0m\n\u001b[0m",
      "\u001b[1;31mAttributeError\u001b[0m: 'list' object has no attribute 'bar'"
     ]
    }
   ],
   "source": [
    "plt.plot(data__2['Age'], data__2['Product_Category_3']).bar()"
   ]
  },
  {
   "cell_type": "markdown",
   "metadata": {},
   "source": [
    "### Are people of a particular occupation buying a certain Product_Category more, and if so, which one"
   ]
  },
  {
   "cell_type": "code",
   "execution_count": 41,
   "metadata": {},
   "outputs": [
    {
     "data": {
      "text/plain": [
       "[<matplotlib.lines.Line2D at 0x2386a5d60a0>]"
      ]
     },
     "execution_count": 41,
     "metadata": {},
     "output_type": "execute_result"
    }
   ],
   "source": [
    "plt.plot(data__2['Occupation'], data__2['Product_Category_1'])\n",
    "plt.plot(data__2['Occupation'], data__2['Product_Category_2'])\n",
    "plt.plot(data__2['Occupation'], data__2['Product_Category_3'])\n",
    "\n"
   ]
  },
  {
   "cell_type": "markdown",
   "metadata": {},
   "source": [
    "### -Which gender is  buying a certain Product_Category more, and if so, which one"
   ]
  },
  {
   "cell_type": "code",
   "execution_count": 42,
   "metadata": {},
   "outputs": [
    {
     "data": {
      "text/plain": [
       "[<matplotlib.lines.Line2D at 0x2386a5cdc10>]"
      ]
     },
     "execution_count": 42,
     "metadata": {},
     "output_type": "execute_result"
    }
   ],
   "source": [
    "plt.plot(data__2['Gender'], data__2['Product_Category_1'])\n",
    "#plt.plot(data__2['Gender'], data__2['Product_Category_2'])\n",
    "#plt.plot(data__2['Gender'], data__2['Product_Category_3'])\n",
    "\n",
    "\n"
   ]
  },
  {
   "cell_type": "markdown",
   "metadata": {},
   "source": [
    "### Which product are married people buying alot"
   ]
  },
  {
   "cell_type": "code",
   "execution_count": 43,
   "metadata": {},
   "outputs": [
    {
     "data": {
      "text/plain": [
       "[<matplotlib.lines.Line2D at 0x2386a5d6ac0>]"
      ]
     },
     "execution_count": 43,
     "metadata": {},
     "output_type": "execute_result"
    }
   ],
   "source": [
    "plt.plot(data__2['Marital_Status'], data__2['Product_Category_1'])\n",
    "plt.plot(data__2['Marital_Status'], data__2['Product_Category_2'])\n",
    "plt.plot(data__2['Marital_Status'], data__2['Product_Category_3'])"
   ]
  },
  {
   "cell_type": "markdown",
   "metadata": {},
   "source": [
    "### Which age group purchases alot"
   ]
  },
  {
   "cell_type": "code",
   "execution_count": null,
   "metadata": {},
   "outputs": [],
   "source": [
    "plt.plot(data__2['Age'], data__2['Purchase'])\n"
   ]
  },
  {
   "cell_type": "markdown",
   "metadata": {},
   "source": [
    "### Which product_category has a high effect of the purchase"
   ]
  },
  {
   "cell_type": "markdown",
   "metadata": {},
   "source": [
    "### Which product is being bought by people from diffrent cities"
   ]
  },
  {
   "cell_type": "code",
   "execution_count": null,
   "metadata": {},
   "outputs": [],
   "source": [
    "plt.plot(data__2['City_Category'], data__2['Product_Category_3'])\n",
    "plt.plot(data__2['City_Category'], data__2['Product_Category_2'])\n",
    "plt.plot(data__2['City_Category'], data__2['Product_Category_1'])\n",
    "\n"
   ]
  },
  {
   "cell_type": "markdown",
   "metadata": {},
   "source": [
    "### People from which city purchase alot"
   ]
  },
  {
   "cell_type": "code",
   "execution_count": null,
   "metadata": {},
   "outputs": [],
   "source": [
    "plt.plot(data__2['City_Category'], data__2['Purchase'])\n",
    "#plt.show()"
   ]
  },
  {
   "cell_type": "markdown",
   "metadata": {},
   "source": [
    "## Preparation of the model"
   ]
  },
  {
   "cell_type": "code",
   "execution_count": null,
   "metadata": {},
   "outputs": [],
   "source": [
    "df = pd.concat([data__6,age_dummies], axis = 1)\n",
    "\n",
    "#df = pd.concat([data__6,age_dummies,City_Category_dummies], axis = 1)\n",
    "\n",
    "X = df.drop(['Age','City_Category'], axis = 1)\n",
    "#Y = pd.get_dummies(data__2.Purchase)\n",
    "Y = data__2['Purchase'] \n",
    "X.head()"
   ]
  },
  {
   "cell_type": "code",
   "execution_count": null,
   "metadata": {},
   "outputs": [],
   "source": [
    "#data__2.dtypes\n",
    "#data__2 = data__2.convert_objects(convert_numeric=True)\n",
    "#data__3 = pd.to_numeric(data__2)\n",
    "\n",
    "\n",
    "#X = data__2.drop(['Purchase', 'Age','Stay_In_Current_City_Years','Product_Category_2', 'City_Category', 'Marital_Status', 'Product_Category_3', 'Product_Category_2','Gender'],axis = 1)\n",
    "#Y = data__2['Purchase'] "
   ]
  },
  {
   "cell_type": "code",
   "execution_count": null,
   "metadata": {},
   "outputs": [],
   "source": [
    "X_train, X_test, Y_train, Y_test = train_test_split(X, Y, test_size=0.4, random_state=0)"
   ]
  },
  {
   "cell_type": "code",
   "execution_count": null,
   "metadata": {
    "scrolled": true
   },
   "outputs": [],
   "source": [
    "from sklearn.preprocessing import StandardScaler\n",
    "sc = StandardScaler()\n",
    "X_train = sc.fit_transform(X_train)  \n",
    "X_test = sc.fit_transform(X_test)\n",
    "#Y_train = sc.fit_transform(Y_train)\n",
    "#Y_test = sc.fit_transform(Y_test)"
   ]
  },
  {
   "cell_type": "markdown",
   "metadata": {},
   "source": [
    "## Regression plots"
   ]
  },
  {
   "cell_type": "code",
   "execution_count": null,
   "metadata": {},
   "outputs": [],
   "source": [
    "sns.regplot(x = 'Product_Category_1', y = 'Product_Category_2', data = data__2)"
   ]
  },
  {
   "cell_type": "code",
   "execution_count": null,
   "metadata": {},
   "outputs": [],
   "source": [
    "sns.regplot(x = 'Product_Category_3', y = 'Purchase', data = data__2)"
   ]
  },
  {
   "cell_type": "code",
   "execution_count": null,
   "metadata": {},
   "outputs": [],
   "source": [
    "sns.regplot(x = 'Product_Category_1', y = 'Product_Category_3', data = data__2)"
   ]
  },
  {
   "cell_type": "code",
   "execution_count": null,
   "metadata": {},
   "outputs": [],
   "source": [
    "sns.regplot(x = 'Marital_Status', y = 'Occupation', data = data__2)"
   ]
  },
  {
   "cell_type": "markdown",
   "metadata": {},
   "source": [
    "### Lets do some Cross Validation on the data"
   ]
  },
  {
   "cell_type": "code",
   "execution_count": null,
   "metadata": {},
   "outputs": [],
   "source": [
    "from sklearn.model_selection import  cross_val_score"
   ]
  },
  {
   "cell_type": "code",
   "execution_count": null,
   "metadata": {},
   "outputs": [],
   "source": [
    "from sklearn.linear_model import LinearRegression\n",
    "lr =LinearRegression()"
   ]
  },
  {
   "cell_type": "code",
   "execution_count": null,
   "metadata": {},
   "outputs": [],
   "source": [
    "print(cross_val_score(lr, X, Y, cv = 3))"
   ]
  },
  {
   "cell_type": "markdown",
   "metadata": {},
   "source": [
    "## Linear Regression Model"
   ]
  },
  {
   "cell_type": "code",
   "execution_count": null,
   "metadata": {},
   "outputs": [],
   "source": [
    "from sklearn.linear_model import LinearRegression"
   ]
  },
  {
   "cell_type": "code",
   "execution_count": null,
   "metadata": {},
   "outputs": [],
   "source": [
    "lr = LinearRegression()\n",
    "lr.fit(X_train, Y_train)"
   ]
  },
  {
   "cell_type": "code",
   "execution_count": null,
   "metadata": {},
   "outputs": [],
   "source": [
    "lr.score(X_test, Y_test)"
   ]
  },
  {
   "cell_type": "code",
   "execution_count": null,
   "metadata": {},
   "outputs": [],
   "source": [
    "predictions = lr.predict(X_test)\n",
    "predictions"
   ]
  },
  {
   "cell_type": "code",
   "execution_count": null,
   "metadata": {},
   "outputs": [],
   "source": [
    "from scipy import stats\n",
    "\n",
    "slope, intercept, r_value, p_value, std_err = stats.linregress(X_train, Y_train)\n",
    "r_value ** 2\n"
   ]
  },
  {
   "cell_type": "code",
   "execution_count": null,
   "metadata": {},
   "outputs": [],
   "source": [
    "plt.scatter(Y_test, predictions)\n",
    "#plt.plot(Y_test, predictions, c='r')\n",
    "#plt.show()"
   ]
  },
  {
   "cell_type": "code",
   "execution_count": null,
   "metadata": {},
   "outputs": [],
   "source": [
    "print(lr.intercept_)\n",
    "print(lr.coef_)"
   ]
  },
  {
   "cell_type": "markdown",
   "metadata": {},
   "source": [
    "## Polynomial Regression Model"
   ]
  },
  {
   "cell_type": "code",
   "execution_count": null,
   "metadata": {},
   "outputs": [],
   "source": [
    "from sklearn.preprocessing import PolynomialFeatures"
   ]
  },
  {
   "cell_type": "code",
   "execution_count": null,
   "metadata": {},
   "outputs": [],
   "source": [
    "pr = Polynomial(degree=4)\n",
    "xp = np.linspace(0, 7, 10)\n",
    "plt.scatter(data__2['Occupation'].values, data__2['Purchase'].values)\n",
    "plt.plot(xp, pr(xp), c='r')\n",
    "plt.show()"
   ]
  },
  {
   "cell_type": "code",
   "execution_count": null,
   "metadata": {},
   "outputs": [],
   "source": [
    "from sklearn.metrics import r2_score\n",
    "\n",
    "r2 = r2_score(data__2['Purchase'], pr(data__2['Occupation']))\n",
    "\n",
    "print(r2)\n"
   ]
  },
  {
   "cell_type": "code",
   "execution_count": null,
   "metadata": {},
   "outputs": [],
   "source": [
    "\n",
    "pr1 = PolynomialFeatures(degree=4)\n",
    "X_poly = pr1.fit_transform(X_train)\n",
    "X_test_poly = pr1.transform(Y_train)\n",
    "#lr.fit(X_poly, Y_train)\n",
    "lr.predict(X_test)\n",
    "#lr.score(X_test,Y_test)"
   ]
  },
  {
   "cell_type": "code",
   "execution_count": null,
   "metadata": {},
   "outputs": [],
   "source": [
    "#plt.scatter(X_train, Y_train, color = 'blue')\n",
    "plt.plot(lr.predict(X_poly), color = 'r')"
   ]
  },
  {
   "cell_type": "code",
   "execution_count": null,
   "metadata": {},
   "outputs": [],
   "source": [
    "X_test"
   ]
  },
  {
   "cell_type": "markdown",
   "metadata": {},
   "source": [
    "<img src=\"Desktop/the_end.jpg\" alt=\"C.E.O\" height=\"1200\" width=\"1200\"></a>"
   ]
  },
  {
   "cell_type": "code",
   "execution_count": null,
   "metadata": {},
   "outputs": [],
   "source": []
  },
  {
   "cell_type": "code",
   "execution_count": null,
   "metadata": {},
   "outputs": [],
   "source": []
  },
  {
   "cell_type": "code",
   "execution_count": null,
   "metadata": {},
   "outputs": [],
   "source": []
  },
  {
   "cell_type": "code",
   "execution_count": null,
   "metadata": {},
   "outputs": [],
   "source": []
  }
 ],
 "metadata": {
  "kernelspec": {
   "display_name": "Python 3 (ipykernel)",
   "language": "python",
   "name": "python3"
  },
  "language_info": {
   "codemirror_mode": {
    "name": "ipython",
    "version": 3
   },
   "file_extension": ".py",
   "mimetype": "text/x-python",
   "name": "python",
   "nbconvert_exporter": "python",
   "pygments_lexer": "ipython3",
   "version": "3.9.13"
  }
 },
 "nbformat": 4,
 "nbformat_minor": 2
}
